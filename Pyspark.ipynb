{
  "cells": [
    {
      "cell_type": "markdown",
      "metadata": {
        "id": "view-in-github",
        "colab_type": "text"
      },
      "source": [
        "<a href=\"https://colab.research.google.com/github/haneeth25/Pyspark_prac/blob/main/Pyspark.ipynb\" target=\"_parent\"><img src=\"https://colab.research.google.com/assets/colab-badge.svg\" alt=\"Open In Colab\"/></a>"
      ]
    },
    {
      "cell_type": "code",
      "source": [
        "!pip install pyspark"
      ],
      "metadata": {
        "id": "XNsVwi_pKBsN",
        "outputId": "71f1ddec-cb49-41ec-b438-471733c791a6",
        "colab": {
          "base_uri": "https://localhost:8080/"
        }
      },
      "execution_count": 2,
      "outputs": [
        {
          "output_type": "stream",
          "name": "stdout",
          "text": [
            "Collecting pyspark\n",
            "  Downloading pyspark-3.5.1.tar.gz (317.0 MB)\n",
            "\u001b[2K     \u001b[90m━━━━━━━━━━━━━━━━━━━━━━━━━━━━━━━━━━━━━━━━\u001b[0m \u001b[32m317.0/317.0 MB\u001b[0m \u001b[31m2.8 MB/s\u001b[0m eta \u001b[36m0:00:00\u001b[0m\n",
            "\u001b[?25h  Preparing metadata (setup.py) ... \u001b[?25l\u001b[?25hdone\n",
            "Requirement already satisfied: py4j==0.10.9.7 in /usr/local/lib/python3.10/dist-packages (from pyspark) (0.10.9.7)\n",
            "Building wheels for collected packages: pyspark\n",
            "  Building wheel for pyspark (setup.py) ... \u001b[?25l\u001b[?25hdone\n",
            "  Created wheel for pyspark: filename=pyspark-3.5.1-py2.py3-none-any.whl size=317488491 sha256=81b05ad678d2d98c5c3f0233355a1b4716a991975648f50b1d71dc76611dc508\n",
            "  Stored in directory: /root/.cache/pip/wheels/80/1d/60/2c256ed38dddce2fdd93be545214a63e02fbd8d74fb0b7f3a6\n",
            "Successfully built pyspark\n",
            "Installing collected packages: pyspark\n",
            "Successfully installed pyspark-3.5.1\n"
          ]
        }
      ]
    },
    {
      "cell_type": "code",
      "source": [
        "from pyspark import SparkConf, SparkContext"
      ],
      "metadata": {
        "id": "4_oDw0JGK0dV"
      },
      "execution_count": 4,
      "outputs": []
    },
    {
      "cell_type": "code",
      "source": [
        "conf = SparkConf().setAppName('Learning')\n",
        "sc = SparkContext().getOrCreate(conf = conf)"
      ],
      "metadata": {
        "id": "NeJNxtF4LvY2"
      },
      "execution_count": 5,
      "outputs": []
    },
    {
      "cell_type": "markdown",
      "source": [
        "#Creating a textfile"
      ],
      "metadata": {
        "id": "3lS-vo2FNYTd"
      }
    },
    {
      "cell_type": "code",
      "source": [
        "# Open a file in write mode\n",
        "with open('example.txt', 'w') as f:\n",
        "    f.write('1 2 3 4 5\\n')\n",
        "    f.write('6 7 8 9 10\\n')\n",
        "    f.write('11 12 13 14 15\\n')\n",
        "    f.write('16 17 18 19 20\\n')\n"
      ],
      "metadata": {
        "id": "sCZM3kEYMbbU"
      },
      "execution_count": 6,
      "outputs": []
    },
    {
      "cell_type": "code",
      "source": [
        "with open('example.txt', 'r') as f:\n",
        "  data = f.read()\n",
        "  print(data)"
      ],
      "metadata": {
        "id": "_NzOngJ-M4HY",
        "outputId": "1e5f79b9-443d-4dee-f55d-a45f12e921df",
        "colab": {
          "base_uri": "https://localhost:8080/"
        }
      },
      "execution_count": 7,
      "outputs": [
        {
          "output_type": "stream",
          "name": "stdout",
          "text": [
            "1 2 3 4 5\n",
            "6 7 8 9 10\n",
            "11 12 13 14 15\n",
            "16 17 18 19 20\n",
            "\n"
          ]
        }
      ]
    },
    {
      "cell_type": "markdown",
      "source": [
        "#Map\n"
      ],
      "metadata": {
        "id": "q8tcbQnIOB8o"
      }
    },
    {
      "cell_type": "code",
      "source": [
        "rdd = sc.textFile(\"example.txt\")"
      ],
      "metadata": {
        "id": "N1AHRetFNEKg"
      },
      "execution_count": 8,
      "outputs": []
    },
    {
      "cell_type": "code",
      "source": [
        "rdd.collect()"
      ],
      "metadata": {
        "id": "FVubYSjsPIou",
        "outputId": "21c28ef4-82bd-4128-c9b6-f24ef490df63",
        "colab": {
          "base_uri": "https://localhost:8080/"
        }
      },
      "execution_count": 9,
      "outputs": [
        {
          "output_type": "execute_result",
          "data": {
            "text/plain": [
              "['1 2 3 4 5', '6 7 8 9 10', '11 12 13 14 15', '16 17 18 19 20']"
            ]
          },
          "metadata": {},
          "execution_count": 9
        }
      ]
    },
    {
      "cell_type": "code",
      "source": [
        "res = rdd.map(lambda x:x.split(' '))\n",
        "res.collect()"
      ],
      "metadata": {
        "id": "82ICnwvePKya",
        "outputId": "dc377492-0cc9-468d-a7ed-c1b6f9d43130",
        "colab": {
          "base_uri": "https://localhost:8080/"
        }
      },
      "execution_count": 10,
      "outputs": [
        {
          "output_type": "execute_result",
          "data": {
            "text/plain": [
              "[['1', '2', '3', '4', '5'],\n",
              " ['6', '7', '8', '9', '10'],\n",
              " ['11', '12', '13', '14', '15'],\n",
              " ['16', '17', '18', '19', '20']]"
            ]
          },
          "metadata": {},
          "execution_count": 10
        }
      ]
    },
    {
      "cell_type": "code",
      "source": [
        "def add_data(x):\n",
        "  l = x.split(\" \")\n",
        "  r = []\n",
        "  for each in l:\n",
        "    r.append(each+' hello')\n",
        "  return r\n",
        "res = rdd.map(add_data)\n",
        "res.collect()"
      ],
      "metadata": {
        "id": "h52iQ5qqPniZ",
        "outputId": "5d460e93-bd38-4e54-ce29-c79abd06c41b",
        "colab": {
          "base_uri": "https://localhost:8080/"
        }
      },
      "execution_count": 18,
      "outputs": [
        {
          "output_type": "execute_result",
          "data": {
            "text/plain": [
              "[['1 hello', '2 hello', '3 hello', '4 hello', '5 hello'],\n",
              " ['6 hello', '7 hello', '8 hello', '9 hello', '10 hello'],\n",
              " ['11 hello', '12 hello', '13 hello', '14 hello', '15 hello'],\n",
              " ['16 hello', '17 hello', '18 hello', '19 hello', '20 hello']]"
            ]
          },
          "metadata": {},
          "execution_count": 18
        }
      ]
    },
    {
      "cell_type": "code",
      "source": [],
      "metadata": {
        "id": "8dlF0WycPzzZ"
      },
      "execution_count": null,
      "outputs": []
    }
  ],
  "metadata": {
    "colab": {
      "name": "Welcome To Colab",
      "provenance": [],
      "include_colab_link": true
    },
    "kernelspec": {
      "display_name": "Python 3",
      "name": "python3"
    }
  },
  "nbformat": 4,
  "nbformat_minor": 0
}