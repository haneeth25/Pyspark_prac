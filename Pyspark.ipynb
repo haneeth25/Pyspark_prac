{
  "cells": [
    {
      "cell_type": "markdown",
      "metadata": {
        "id": "view-in-github",
        "colab_type": "text"
      },
      "source": [
        "<a href=\"https://colab.research.google.com/github/haneeth25/Pyspark_prac/blob/main/Pyspark.ipynb\" target=\"_parent\"><img src=\"https://colab.research.google.com/assets/colab-badge.svg\" alt=\"Open In Colab\"/></a>"
      ]
    },
    {
      "cell_type": "code",
      "source": [
        "!pip install pyspark"
      ],
      "metadata": {
        "colab": {
          "base_uri": "https://localhost:8080/"
        },
        "id": "XNsVwi_pKBsN",
        "outputId": "77077735-e0b1-42d1-ff88-dbd0e79f7be2"
      },
      "execution_count": 1,
      "outputs": [
        {
          "output_type": "stream",
          "name": "stdout",
          "text": [
            "Collecting pyspark\n",
            "  Downloading pyspark-3.5.1.tar.gz (317.0 MB)\n",
            "\u001b[2K     \u001b[90m━━━━━━━━━━━━━━━━━━━━━━━━━━━━━━━━━━━━━━━━\u001b[0m \u001b[32m317.0/317.0 MB\u001b[0m \u001b[31m4.3 MB/s\u001b[0m eta \u001b[36m0:00:00\u001b[0m\n",
            "\u001b[?25h  Preparing metadata (setup.py) ... \u001b[?25l\u001b[?25hdone\n",
            "Requirement already satisfied: py4j==0.10.9.7 in /usr/local/lib/python3.10/dist-packages (from pyspark) (0.10.9.7)\n",
            "Building wheels for collected packages: pyspark\n",
            "  Building wheel for pyspark (setup.py) ... \u001b[?25l\u001b[?25hdone\n",
            "  Created wheel for pyspark: filename=pyspark-3.5.1-py2.py3-none-any.whl size=317488490 sha256=b146495eb83df4200aa19f7215eb960347a1e4f6d056678ad077aba273cf3bf5\n",
            "  Stored in directory: /root/.cache/pip/wheels/80/1d/60/2c256ed38dddce2fdd93be545214a63e02fbd8d74fb0b7f3a6\n",
            "Successfully built pyspark\n",
            "Installing collected packages: pyspark\n",
            "Successfully installed pyspark-3.5.1\n"
          ]
        }
      ]
    },
    {
      "cell_type": "code",
      "source": [
        "from pyspark import SparkConf, SparkContext"
      ],
      "metadata": {
        "id": "4_oDw0JGK0dV"
      },
      "execution_count": 2,
      "outputs": []
    },
    {
      "cell_type": "code",
      "source": [
        "conf = SparkConf().setAppName('Learning')\n",
        "sc = SparkContext().getOrCreate(conf = conf)"
      ],
      "metadata": {
        "id": "NeJNxtF4LvY2"
      },
      "execution_count": 3,
      "outputs": []
    },
    {
      "cell_type": "markdown",
      "source": [
        "#Creating a textfile"
      ],
      "metadata": {
        "id": "3lS-vo2FNYTd"
      }
    },
    {
      "cell_type": "code",
      "source": [
        "# Open a file in write mode\n",
        "with open('example.txt', 'w') as f:\n",
        "    f.write('1 2 3 4 5\\n')\n",
        "    f.write('6 7 8 9 10\\n')\n",
        "    f.write('11 12 13 14 15\\n')\n",
        "    f.write('16 17 18 19 20\\n')\n"
      ],
      "metadata": {
        "id": "sCZM3kEYMbbU"
      },
      "execution_count": 13,
      "outputs": []
    },
    {
      "cell_type": "code",
      "source": [
        "with open('example.txt', 'r') as f:\n",
        "  data = f.read()\n",
        "  print(data)"
      ],
      "metadata": {
        "colab": {
          "base_uri": "https://localhost:8080/"
        },
        "id": "_NzOngJ-M4HY",
        "outputId": "00da9242-46c5-45b9-f118-a9c830789f21"
      },
      "execution_count": 14,
      "outputs": [
        {
          "output_type": "stream",
          "name": "stdout",
          "text": [
            "1 2 3 4 5\n",
            "6 7 8 9 10\n",
            "11 12 13 14 15\n",
            "16 17 18 19 20\n",
            "\n"
          ]
        }
      ]
    },
    {
      "cell_type": "markdown",
      "source": [
        "#Map\n"
      ],
      "metadata": {
        "id": "q8tcbQnIOB8o"
      }
    },
    {
      "cell_type": "code",
      "source": [
        "rdd = sc.textFile(\"example.txt\")"
      ],
      "metadata": {
        "id": "N1AHRetFNEKg"
      },
      "execution_count": 15,
      "outputs": []
    },
    {
      "cell_type": "code",
      "source": [
        "rdd.collect()"
      ],
      "metadata": {
        "colab": {
          "base_uri": "https://localhost:8080/"
        },
        "id": "FVubYSjsPIou",
        "outputId": "ccad0e7e-6259-4e9e-c059-26689ab64e07"
      },
      "execution_count": 16,
      "outputs": [
        {
          "output_type": "execute_result",
          "data": {
            "text/plain": [
              "['1 2 3 4 5', '6 7 8 9 10', '11 12 13 14 15', '16 17 18 19 20']"
            ]
          },
          "metadata": {},
          "execution_count": 16
        }
      ]
    },
    {
      "cell_type": "code",
      "source": [
        "res = rdd.map(lambda x:x.split(' '))\n",
        "res.collect()"
      ],
      "metadata": {
        "colab": {
          "base_uri": "https://localhost:8080/"
        },
        "id": "82ICnwvePKya",
        "outputId": "dfdbf53a-ccbc-44da-f922-cd89f6a72f8b"
      },
      "execution_count": 17,
      "outputs": [
        {
          "output_type": "execute_result",
          "data": {
            "text/plain": [
              "[['1', '2', '3', '4', '5'],\n",
              " ['6', '7', '8', '9', '10'],\n",
              " ['11', '12', '13', '14', '15'],\n",
              " ['16', '17', '18', '19', '20']]"
            ]
          },
          "metadata": {},
          "execution_count": 17
        }
      ]
    },
    {
      "cell_type": "code",
      "source": [
        "def add_data(x):\n",
        "  l = x.split(\" \")\n",
        "  r = []\n",
        "  for each in l:\n",
        "    r.append(each+' hello')\n",
        "  return r\n",
        "res = rdd.map(add_data)\n",
        "res.collect()"
      ],
      "metadata": {
        "colab": {
          "base_uri": "https://localhost:8080/"
        },
        "id": "h52iQ5qqPniZ",
        "outputId": "eadbc7ec-d76a-4d86-d1d0-c07165d91bbc"
      },
      "execution_count": 18,
      "outputs": [
        {
          "output_type": "execute_result",
          "data": {
            "text/plain": [
              "[['1 hello', '2 hello', '3 hello', '4 hello', '5 hello'],\n",
              " ['6 hello', '7 hello', '8 hello', '9 hello', '10 hello'],\n",
              " ['11 hello', '12 hello', '13 hello', '14 hello', '15 hello'],\n",
              " ['16 hello', '17 hello', '18 hello', '19 hello', '20 hello']]"
            ]
          },
          "metadata": {},
          "execution_count": 18
        }
      ]
    },
    {
      "cell_type": "code",
      "source": [
        "with open('example.txt', 'w') as f:\n",
        "    f.write('Hi How are you\\n')\n",
        "    f.write('Hope you are doing good\\n')\n",
        "    f.write('great\\n')"
      ],
      "metadata": {
        "id": "kyVM-UQwCKAM"
      },
      "execution_count": 19,
      "outputs": []
    },
    {
      "cell_type": "code",
      "source": [
        "def find_len(x):\n",
        "  l = x.split(' ')\n",
        "  r = ''\n",
        "  for each in l:\n",
        "    r = r + str(len(each))+' '\n",
        "  return r[:-1]\n",
        "res = rdd.map(find_len)\n",
        "res.collect()"
      ],
      "metadata": {
        "colab": {
          "base_uri": "https://localhost:8080/"
        },
        "id": "8dlF0WycPzzZ",
        "outputId": "e3849a72-f226-4917-e961-accc99b180e9"
      },
      "execution_count": 20,
      "outputs": [
        {
          "output_type": "execute_result",
          "data": {
            "text/plain": [
              "['2 3 3 3', '4 3 3 5 4', '5']"
            ]
          },
          "metadata": {},
          "execution_count": 20
        }
      ]
    },
    {
      "cell_type": "code",
      "source": [
        "rdd.collect()"
      ],
      "metadata": {
        "id": "JJ-MTlPbTAJb",
        "outputId": "2e176461-63d7-40a5-c33d-26a58f3b93be",
        "colab": {
          "base_uri": "https://localhost:8080/"
        }
      },
      "execution_count": 21,
      "outputs": [
        {
          "output_type": "execute_result",
          "data": {
            "text/plain": [
              "['Hi How are you', 'Hope you are doing good', 'great']"
            ]
          },
          "metadata": {},
          "execution_count": 21
        }
      ]
    },
    {
      "cell_type": "markdown",
      "source": [
        "#RDD groupbykey"
      ],
      "metadata": {
        "id": "qIaZi1c6DYqC"
      }
    },
    {
      "cell_type": "code",
      "source": [
        "with open('example.txt', 'w') as f:\n",
        "    f.write('This mango company animal\\n')\n",
        "    f.write('cat dog ant mic laptop\\n')\n",
        "    f.write('mango any alarm ant\\n')"
      ],
      "metadata": {
        "id": "PglhcKE7DMhL"
      },
      "execution_count": 22,
      "outputs": []
    },
    {
      "cell_type": "code",
      "source": [
        "rdd_flat_map = rdd.flatMap(lambda x:x.split(' '))"
      ],
      "metadata": {
        "id": "LT9aNW0CDxNe"
      },
      "execution_count": 23,
      "outputs": []
    },
    {
      "cell_type": "code",
      "source": [
        "rdd_map = rdd_flat_map.map(lambda x:(x,len(x)))"
      ],
      "metadata": {
        "id": "7tXIzvo0D5so"
      },
      "execution_count": 24,
      "outputs": []
    },
    {
      "cell_type": "code",
      "source": [
        "rdd_map.collect()"
      ],
      "metadata": {
        "id": "xRNTDq7BEDAk",
        "outputId": "11979adc-10a0-4cfc-8d41-5ab11089a1b5",
        "colab": {
          "base_uri": "https://localhost:8080/"
        }
      },
      "execution_count": 26,
      "outputs": [
        {
          "output_type": "execute_result",
          "data": {
            "text/plain": [
              "[('This', 4),\n",
              " ('mango', 5),\n",
              " ('company', 7),\n",
              " ('animal', 6),\n",
              " ('cat', 3),\n",
              " ('dog', 3),\n",
              " ('ant', 3),\n",
              " ('mic', 3),\n",
              " ('laptop', 6),\n",
              " ('mango', 5),\n",
              " ('any', 3),\n",
              " ('alarm', 5),\n",
              " ('ant', 3)]"
            ]
          },
          "metadata": {},
          "execution_count": 26
        }
      ]
    },
    {
      "cell_type": "code",
      "source": [
        "rdd_groupByKey = rdd_map.groupByKey()\n",
        "rdd_groupByKey.mapValues(list).collect()"
      ],
      "metadata": {
        "id": "TBRLLsrnEEMK",
        "outputId": "382a785c-7fbc-4241-e316-20c4e196c745",
        "colab": {
          "base_uri": "https://localhost:8080/"
        }
      },
      "execution_count": 29,
      "outputs": [
        {
          "output_type": "execute_result",
          "data": {
            "text/plain": [
              "[('mango', [5, 5]),\n",
              " ('cat', [3]),\n",
              " ('ant', [3, 3]),\n",
              " ('laptop', [6]),\n",
              " ('This', [4]),\n",
              " ('company', [7]),\n",
              " ('animal', [6]),\n",
              " ('dog', [3]),\n",
              " ('mic', [3]),\n",
              " ('any', [3]),\n",
              " ('alarm', [5])]"
            ]
          },
          "metadata": {},
          "execution_count": 29
        }
      ]
    },
    {
      "cell_type": "markdown",
      "source": [
        "#reduceByKey"
      ],
      "metadata": {
        "id": "tdNCVy6AEiZ6"
      }
    },
    {
      "cell_type": "code",
      "source": [
        "rdd_reduceByKey = rdd_map.reduceByKey(lambda x,y:x+y)\n",
        "rdd_reduceByKey.collect()"
      ],
      "metadata": {
        "id": "D9hCzeE6EOUz",
        "outputId": "a7bf2d70-4692-434d-97ee-e3d3b55d8c55",
        "colab": {
          "base_uri": "https://localhost:8080/"
        }
      },
      "execution_count": 30,
      "outputs": [
        {
          "output_type": "execute_result",
          "data": {
            "text/plain": [
              "[('mango', 10),\n",
              " ('cat', 3),\n",
              " ('ant', 6),\n",
              " ('laptop', 6),\n",
              " ('This', 4),\n",
              " ('company', 7),\n",
              " ('animal', 6),\n",
              " ('dog', 3),\n",
              " ('mic', 3),\n",
              " ('any', 3),\n",
              " ('alarm', 5)]"
            ]
          },
          "metadata": {},
          "execution_count": 30
        }
      ]
    },
    {
      "cell_type": "code",
      "source": [
        "rdd_flat_map.countByValue()"
      ],
      "metadata": {
        "id": "XIxqoB58ExIN",
        "outputId": "f0054625-4fcf-45d4-f1b8-d76c263c6f17",
        "colab": {
          "base_uri": "https://localhost:8080/"
        }
      },
      "execution_count": 31,
      "outputs": [
        {
          "output_type": "execute_result",
          "data": {
            "text/plain": [
              "defaultdict(int,\n",
              "            {'This': 1,\n",
              "             'mango': 2,\n",
              "             'company': 1,\n",
              "             'animal': 1,\n",
              "             'cat': 1,\n",
              "             'dog': 1,\n",
              "             'ant': 2,\n",
              "             'mic': 1,\n",
              "             'laptop': 1,\n",
              "             'any': 1,\n",
              "             'alarm': 1})"
            ]
          },
          "metadata": {},
          "execution_count": 31
        }
      ]
    },
    {
      "cell_type": "code",
      "source": [
        "!wget https://raw.githubusercontent.com/haneeth25/Libraries_prac/main/Student_performance_data%20_.csv"
      ],
      "metadata": {
        "id": "nOlDqW4YFA1s",
        "outputId": "214667da-5ad1-446d-92de-ee8f410bedc6",
        "colab": {
          "base_uri": "https://localhost:8080/"
        }
      },
      "execution_count": 32,
      "outputs": [
        {
          "output_type": "stream",
          "name": "stdout",
          "text": [
            "--2024-07-25 04:20:30--  https://raw.githubusercontent.com/haneeth25/Libraries_prac/main/Student_performance_data%20_.csv\n",
            "Resolving raw.githubusercontent.com (raw.githubusercontent.com)... 185.199.108.133, 185.199.109.133, 185.199.110.133, ...\n",
            "Connecting to raw.githubusercontent.com (raw.githubusercontent.com)|185.199.108.133|:443... connected.\n",
            "HTTP request sent, awaiting response... 200 OK\n",
            "Length: 166901 (163K) [text/plain]\n",
            "Saving to: ‘Student_performance_data _.csv’\n",
            "\n",
            "\r          Student_p   0%[                    ]       0  --.-KB/s               \rStudent_performance 100%[===================>] 162.99K  --.-KB/s    in 0.007s  \n",
            "\n",
            "2024-07-25 04:20:30 (24.3 MB/s) - ‘Student_performance_data _.csv’ saved [166901/166901]\n",
            "\n"
          ]
        }
      ]
    },
    {
      "cell_type": "markdown",
      "source": [
        "#Spark sql"
      ],
      "metadata": {
        "id": "NKzdRhV9JPHr"
      }
    },
    {
      "cell_type": "code",
      "source": [
        "from pyspark import SparkContext"
      ],
      "metadata": {
        "id": "83H0cJSrHnsC"
      },
      "execution_count": 34,
      "outputs": []
    },
    {
      "cell_type": "code",
      "source": [
        "from pyspark.sql import SparkSession\n",
        "\n",
        "spark = SparkSession.builder \\\n",
        "    .appName(\"YourAppName\") \\\n",
        "    .enableHiveSupport() \\\n",
        "    .getOrCreate()"
      ],
      "metadata": {
        "id": "Vjg4N1EcJ2lv"
      },
      "execution_count": 51,
      "outputs": []
    },
    {
      "cell_type": "code",
      "source": [
        "spark.sql(\"SHOW DATABASES\").show()"
      ],
      "metadata": {
        "id": "aFqeGVEfKWCE",
        "outputId": "7748fb73-c8a5-4743-f7c4-80feac243faf",
        "colab": {
          "base_uri": "https://localhost:8080/"
        }
      },
      "execution_count": 52,
      "outputs": [
        {
          "output_type": "stream",
          "name": "stdout",
          "text": [
            "+---------+\n",
            "|namespace|\n",
            "+---------+\n",
            "|  default|\n",
            "+---------+\n",
            "\n"
          ]
        }
      ]
    },
    {
      "cell_type": "code",
      "source": [
        "df = spark.read.option(\"header\",True).csv(\"/content/Student_performance_data.csv\")\n",
        "#df.show()\n",
        "df.printSchema()"
      ],
      "metadata": {
        "id": "V7dJ3p11jtCN",
        "outputId": "71a3cc91-2ac9-46ea-d2eb-5034fbb9f661",
        "colab": {
          "base_uri": "https://localhost:8080/"
        }
      },
      "execution_count": 109,
      "outputs": [
        {
          "output_type": "stream",
          "name": "stdout",
          "text": [
            "root\n",
            " |-- StudentID: string (nullable = true)\n",
            " |-- Age: string (nullable = true)\n",
            " |-- Gender: string (nullable = true)\n",
            " |-- Ethnicity: string (nullable = true)\n",
            " |-- ParentalEducation: string (nullable = true)\n",
            " |-- StudyTimeWeekly: string (nullable = true)\n",
            " |-- Absences: string (nullable = true)\n",
            " |-- Tutoring: string (nullable = true)\n",
            " |-- ParentalSupport: string (nullable = true)\n",
            " |-- Extracurricular: string (nullable = true)\n",
            " |-- Sports: string (nullable = true)\n",
            " |-- Music: string (nullable = true)\n",
            " |-- Volunteering: string (nullable = true)\n",
            " |-- GPA: string (nullable = true)\n",
            " |-- GradeClass: string (nullable = true)\n",
            "\n"
          ]
        }
      ]
    },
    {
      "cell_type": "code",
      "source": [
        "from pyspark.sql.types import StructType,StructField,StringType,IntegerType\n",
        "s = StructType(\n",
        "    [\n",
        "        StructField('StudentID',IntegerType(),False),\n",
        "        StructField('Age',StringType(),False),\n",
        "        StructField('Gender',StringType(),False),\n",
        "        StructField('Ethnicity',StringType(),False),\n",
        "        StructField('ParentalEducation',StringType(),False),\n",
        "        StructField('StudyTimeWeekly',StringType(),False),\n",
        "        StructField('Absences',StringType(),False),\n",
        "        StructField('Tutoring',StringType(),False),\n",
        "        StructField('ParentalSupport',StringType(),False),\n",
        "        StructField('Extracurricular',StringType(),False),\n",
        "        StructField('Sports',StringType(),False),\n",
        "        StructField('Music',StringType(),False),\n",
        "        StructField('Volunteering',StringType(),False),\n",
        "        StructField('GPA',StringType(),False),\n",
        "        #StructField('GradeClass',StringType(),False),\n",
        "    ]\n",
        ")"
      ],
      "metadata": {
        "id": "fif2uOqLkibX"
      },
      "execution_count": 117,
      "outputs": []
    },
    {
      "cell_type": "code",
      "source": [
        "df = spark.read.options(header='True').schema(s).csv(\"/content/Student_performance_data.csv\")"
      ],
      "metadata": {
        "id": "0rrCBcMgl5s2"
      },
      "execution_count": 118,
      "outputs": []
    },
    {
      "cell_type": "code",
      "source": [
        "df.printSchema()"
      ],
      "metadata": {
        "id": "8gHi4WcKmPMf",
        "outputId": "a0b2c834-112f-4acf-a009-08c4b8a2c35e",
        "colab": {
          "base_uri": "https://localhost:8080/"
        }
      },
      "execution_count": 119,
      "outputs": [
        {
          "output_type": "stream",
          "name": "stdout",
          "text": [
            "root\n",
            " |-- StudentID: integer (nullable = true)\n",
            " |-- Age: string (nullable = true)\n",
            " |-- Gender: string (nullable = true)\n",
            " |-- Ethnicity: string (nullable = true)\n",
            " |-- ParentalEducation: string (nullable = true)\n",
            " |-- StudyTimeWeekly: string (nullable = true)\n",
            " |-- Absences: string (nullable = true)\n",
            " |-- Tutoring: string (nullable = true)\n",
            " |-- ParentalSupport: string (nullable = true)\n",
            " |-- Extracurricular: string (nullable = true)\n",
            " |-- Sports: string (nullable = true)\n",
            " |-- Music: string (nullable = true)\n",
            " |-- Volunteering: string (nullable = true)\n",
            " |-- GPA: string (nullable = true)\n",
            "\n"
          ]
        }
      ]
    },
    {
      "cell_type": "code",
      "source": [
        "df = spark.read.options(inferSchema = 'True',header='True').csv(\"/content/Student_performance_data.csv\")"
      ],
      "metadata": {
        "id": "QYFdqTgUJkDZ"
      },
      "execution_count": 120,
      "outputs": []
    },
    {
      "cell_type": "code",
      "source": [
        "df.show()"
      ],
      "metadata": {
        "id": "B1Bqk6eVLCH_",
        "outputId": "ef9d2f6e-a117-4e5e-fdf3-461dfcf7c239",
        "colab": {
          "base_uri": "https://localhost:8080/"
        }
      },
      "execution_count": 121,
      "outputs": [
        {
          "output_type": "stream",
          "name": "stdout",
          "text": [
            "+---------+---+------+---------+-----------------+------------------+--------+--------+---------------+---------------+------+-----+------------+------------------+----------+\n",
            "|StudentID|Age|Gender|Ethnicity|ParentalEducation|   StudyTimeWeekly|Absences|Tutoring|ParentalSupport|Extracurricular|Sports|Music|Volunteering|               GPA|GradeClass|\n",
            "+---------+---+------+---------+-----------------+------------------+--------+--------+---------------+---------------+------+-----+------------+------------------+----------+\n",
            "|     1001| 17|     1|        0|                2|19.833722807854713|       7|       1|              2|              0|     0|    1|           0| 2.929195591667681|       2.0|\n",
            "|     1002| 18|     0|        0|                1| 15.40875605584674|       0|       0|              1|              0|     0|    0|           0| 3.042914833436377|       1.0|\n",
            "|     1003| 15|     0|        2|                3|  4.21056976881226|      26|       0|              2|              0|     0|    0|           0|0.1126022544661815|       4.0|\n",
            "|     1004| 17|     1|        0|                3|10.028829473958215|      14|       0|              3|              1|     0|    0|           0|2.0542181397029484|       3.0|\n",
            "|     1005| 17|     1|        0|                2|4.6724952729713305|      17|       1|              3|              0|     0|    0|           0|1.2880611817953875|       4.0|\n",
            "|     1006| 18|     0|        0|                1| 8.191218545250186|       0|       0|              1|              1|     0|    0|           0|3.0841836144863937|       1.0|\n",
            "|     1007| 15|     0|        1|                1|15.601680474699295|      10|       0|              3|              0|     1|    0|           0| 2.748237414891583|       2.0|\n",
            "|     1008| 15|     1|        1|                4|15.424496305808074|      22|       1|              1|              1|     0|    0|           0| 1.360142712316461|       4.0|\n",
            "|     1009| 17|     0|        0|                0| 4.562007558047703|       1|       0|              2|              0|     1|    0|           1| 2.896819189513569|       2.0|\n",
            "|     1010| 16|     1|        0|                1|18.444466363097202|       0|       0|              3|              1|     0|    0|           0|3.5734742103297656|       0.0|\n",
            "|     1011| 17|     0|        0|                1|11.851363655296536|      11|       0|              1|              0|     0|    0|           0|2.1471716250185144|       3.0|\n",
            "|     1012| 17|     0|        0|                1|  7.59848581924029|      15|       0|              2|              0|     0|    0|           1|1.5595945190402773|       4.0|\n",
            "|     1013| 17|     0|        1|                1|10.038711615617213|      21|       0|              3|              1|     0|    0|           0| 1.520077814874808|       4.0|\n",
            "|     1014| 17|     0|        1|                2|12.101425068754875|      21|       0|              4|              0|     1|    0|           0|1.7515809583340785|       4.0|\n",
            "|     1015| 18|     1|        0|                1|11.197810636915708|       9|       1|              2|              0|     0|    0|           0| 2.396788117124796|       3.0|\n",
            "|     1016| 15|     0|        0|                2| 9.728100710723563|      17|       1|              0|              0|     1|    0|           0|1.3415207165346672|       4.0|\n",
            "|     1017| 18|     0|        3|                1|10.098656081788002|      14|       0|              2|              1|     1|    0|           0|2.2321752777159762|       3.0|\n",
            "|     1018| 18|     1|        0|                0|3.5282382085577235|      16|       1|              2|              0|     0|    0|           0|1.3844041756940335|       4.0|\n",
            "|     1019| 18|     0|        1|                3| 16.25465808609359|      29|       0|              2|              1|     0|    0|           1|0.4695533233798704|       4.0|\n",
            "|     1020| 17|     0|        0|                1|10.835206398820308|       9|       0|              2|              0|     0|    1|           0|2.3957840945306996|       3.0|\n",
            "+---------+---+------+---------+-----------------+------------------+--------+--------+---------------+---------------+------+-----+------------+------------------+----------+\n",
            "only showing top 20 rows\n",
            "\n"
          ]
        }
      ]
    },
    {
      "cell_type": "code",
      "source": [
        "df.createOrReplaceTempView('students');"
      ],
      "metadata": {
        "id": "1ZG9mPlgLLDZ"
      },
      "execution_count": 50,
      "outputs": []
    },
    {
      "cell_type": "code",
      "source": [
        "with cte as(select GradeClass,AVG(GPA) from students groupby GradeClass)\n",
        "select * from students s , cte e left join on e.GradeClass = s.GradeClass;\n"
      ],
      "metadata": {
        "id": "HGt9lB3boN8i"
      },
      "execution_count": null,
      "outputs": []
    },
    {
      "cell_type": "code",
      "source": [
        "spark.sql('with cte as(select GradeClass,AVG(GPA) as avg_gpa from students group by GradeClass) select s.*,e.avg_gpa from students s left join cte e on e.GradeClass = s.GradeClass').show()"
      ],
      "metadata": {
        "id": "QC50TOLJL-PF",
        "outputId": "5fda4104-34e1-447b-a15c-1b96d1769eae",
        "colab": {
          "base_uri": "https://localhost:8080/"
        }
      },
      "execution_count": 139,
      "outputs": [
        {
          "output_type": "stream",
          "name": "stdout",
          "text": [
            "+---------+---+------+---------+-----------------+------------------+--------+--------+---------------+---------------+------+-----+------------+------------------+----------+------------------+\n",
            "|StudentID|Age|Gender|Ethnicity|ParentalEducation|   StudyTimeWeekly|Absences|Tutoring|ParentalSupport|Extracurricular|Sports|Music|Volunteering|               GPA|GradeClass|           avg_gpa|\n",
            "+---------+---+------+---------+-----------------+------------------+--------+--------+---------------+---------------+------+-----+------------+------------------+----------+------------------+\n",
            "|     1001| 17|     1|        0|                2|19.833722807854713|       7|       1|              2|              0|     0|    1|           0| 2.929195591667681|       2.0|2.6597418990482273|\n",
            "|     1002| 18|     0|        0|                1| 15.40875605584674|       0|       0|              1|              0|     0|    0|           0| 3.042914833436377|       1.0|3.0016730360731767|\n",
            "|     1003| 15|     0|        2|                3|  4.21056976881226|      26|       0|              2|              0|     0|    0|           0|0.1126022544661815|       4.0|1.2080414095081404|\n",
            "|     1004| 17|     1|        0|                3|10.028829473958215|      14|       0|              3|              1|     0|    0|           0|2.0542181397029484|       3.0|2.2155449029723635|\n",
            "|     1005| 17|     1|        0|                2|4.6724952729713305|      17|       1|              3|              0|     0|    0|           0|1.2880611817953875|       4.0|1.2080414095081404|\n",
            "|     1006| 18|     0|        0|                1| 8.191218545250186|       0|       0|              1|              1|     0|    0|           0|3.0841836144863937|       1.0|3.0016730360731767|\n",
            "|     1007| 15|     0|        1|                1|15.601680474699295|      10|       0|              3|              0|     1|    0|           0| 2.748237414891583|       2.0|2.6597418990482273|\n",
            "|     1008| 15|     1|        1|                4|15.424496305808074|      22|       1|              1|              1|     0|    0|           0| 1.360142712316461|       4.0|1.2080414095081404|\n",
            "|     1009| 17|     0|        0|                0| 4.562007558047703|       1|       0|              2|              0|     1|    0|           1| 2.896819189513569|       2.0|2.6597418990482273|\n",
            "|     1010| 16|     1|        0|                1|18.444466363097202|       0|       0|              3|              1|     0|    0|           0|3.5734742103297656|       0.0|3.1029417770600856|\n",
            "|     1011| 17|     0|        0|                1|11.851363655296536|      11|       0|              1|              0|     0|    0|           0|2.1471716250185144|       3.0|2.2155449029723635|\n",
            "|     1012| 17|     0|        0|                1|  7.59848581924029|      15|       0|              2|              0|     0|    0|           1|1.5595945190402773|       4.0|1.2080414095081404|\n",
            "|     1013| 17|     0|        1|                1|10.038711615617213|      21|       0|              3|              1|     0|    0|           0| 1.520077814874808|       4.0|1.2080414095081404|\n",
            "|     1014| 17|     0|        1|                2|12.101425068754875|      21|       0|              4|              0|     1|    0|           0|1.7515809583340785|       4.0|1.2080414095081404|\n",
            "|     1015| 18|     1|        0|                1|11.197810636915708|       9|       1|              2|              0|     0|    0|           0| 2.396788117124796|       3.0|2.2155449029723635|\n",
            "|     1016| 15|     0|        0|                2| 9.728100710723563|      17|       1|              0|              0|     1|    0|           0|1.3415207165346672|       4.0|1.2080414095081404|\n",
            "|     1017| 18|     0|        3|                1|10.098656081788002|      14|       0|              2|              1|     1|    0|           0|2.2321752777159762|       3.0|2.2155449029723635|\n",
            "|     1018| 18|     1|        0|                0|3.5282382085577235|      16|       1|              2|              0|     0|    0|           0|1.3844041756940335|       4.0|1.2080414095081404|\n",
            "|     1019| 18|     0|        1|                3| 16.25465808609359|      29|       0|              2|              1|     0|    0|           1|0.4695533233798704|       4.0|1.2080414095081404|\n",
            "|     1020| 17|     0|        0|                1|10.835206398820308|       9|       0|              2|              0|     0|    1|           0|2.3957840945306996|       3.0|2.2155449029723635|\n",
            "+---------+---+------+---------+-----------------+------------------+--------+--------+---------------+---------------+------+-----+------------+------------------+----------+------------------+\n",
            "only showing top 20 rows\n",
            "\n"
          ]
        }
      ]
    },
    {
      "cell_type": "code",
      "source": [
        "result_df = spark.sql('''\n",
        "    WITH cte AS (\n",
        "        SELECT GradeClass, AVG(GPA) AS AvgGPA\n",
        "        FROM students\n",
        "        GROUP BY GradeClass\n",
        "    )\n",
        "    SELECT s.*, cte.AvgGPA\n",
        "    FROM students s\n",
        "    LEFT JOIN cte ON s.GradeClass = cte.GradeClass\n",
        "''')\n",
        "\n",
        "# Show the result\n",
        "result_df.show()"
      ],
      "metadata": {
        "id": "6vmfScSEpY47",
        "outputId": "30257362-6838-475f-fe07-728b2a0ee09b",
        "colab": {
          "base_uri": "https://localhost:8080/"
        }
      },
      "execution_count": 136,
      "outputs": [
        {
          "output_type": "stream",
          "name": "stdout",
          "text": [
            "+---------+---+------+---------+-----------------+------------------+--------+--------+---------------+---------------+------+-----+------------+------------------+----------+------------------+\n",
            "|StudentID|Age|Gender|Ethnicity|ParentalEducation|   StudyTimeWeekly|Absences|Tutoring|ParentalSupport|Extracurricular|Sports|Music|Volunteering|               GPA|GradeClass|            AvgGPA|\n",
            "+---------+---+------+---------+-----------------+------------------+--------+--------+---------------+---------------+------+-----+------------+------------------+----------+------------------+\n",
            "|     1001| 17|     1|        0|                2|19.833722807854713|       7|       1|              2|              0|     0|    1|           0| 2.929195591667681|       2.0|2.6597418990482273|\n",
            "|     1002| 18|     0|        0|                1| 15.40875605584674|       0|       0|              1|              0|     0|    0|           0| 3.042914833436377|       1.0|3.0016730360731767|\n",
            "|     1003| 15|     0|        2|                3|  4.21056976881226|      26|       0|              2|              0|     0|    0|           0|0.1126022544661815|       4.0|1.2080414095081404|\n",
            "|     1004| 17|     1|        0|                3|10.028829473958215|      14|       0|              3|              1|     0|    0|           0|2.0542181397029484|       3.0|2.2155449029723635|\n",
            "|     1005| 17|     1|        0|                2|4.6724952729713305|      17|       1|              3|              0|     0|    0|           0|1.2880611817953875|       4.0|1.2080414095081404|\n",
            "|     1006| 18|     0|        0|                1| 8.191218545250186|       0|       0|              1|              1|     0|    0|           0|3.0841836144863937|       1.0|3.0016730360731767|\n",
            "|     1007| 15|     0|        1|                1|15.601680474699295|      10|       0|              3|              0|     1|    0|           0| 2.748237414891583|       2.0|2.6597418990482273|\n",
            "|     1008| 15|     1|        1|                4|15.424496305808074|      22|       1|              1|              1|     0|    0|           0| 1.360142712316461|       4.0|1.2080414095081404|\n",
            "|     1009| 17|     0|        0|                0| 4.562007558047703|       1|       0|              2|              0|     1|    0|           1| 2.896819189513569|       2.0|2.6597418990482273|\n",
            "|     1010| 16|     1|        0|                1|18.444466363097202|       0|       0|              3|              1|     0|    0|           0|3.5734742103297656|       0.0|3.1029417770600856|\n",
            "|     1011| 17|     0|        0|                1|11.851363655296536|      11|       0|              1|              0|     0|    0|           0|2.1471716250185144|       3.0|2.2155449029723635|\n",
            "|     1012| 17|     0|        0|                1|  7.59848581924029|      15|       0|              2|              0|     0|    0|           1|1.5595945190402773|       4.0|1.2080414095081404|\n",
            "|     1013| 17|     0|        1|                1|10.038711615617213|      21|       0|              3|              1|     0|    0|           0| 1.520077814874808|       4.0|1.2080414095081404|\n",
            "|     1014| 17|     0|        1|                2|12.101425068754875|      21|       0|              4|              0|     1|    0|           0|1.7515809583340785|       4.0|1.2080414095081404|\n",
            "|     1015| 18|     1|        0|                1|11.197810636915708|       9|       1|              2|              0|     0|    0|           0| 2.396788117124796|       3.0|2.2155449029723635|\n",
            "|     1016| 15|     0|        0|                2| 9.728100710723563|      17|       1|              0|              0|     1|    0|           0|1.3415207165346672|       4.0|1.2080414095081404|\n",
            "|     1017| 18|     0|        3|                1|10.098656081788002|      14|       0|              2|              1|     1|    0|           0|2.2321752777159762|       3.0|2.2155449029723635|\n",
            "|     1018| 18|     1|        0|                0|3.5282382085577235|      16|       1|              2|              0|     0|    0|           0|1.3844041756940335|       4.0|1.2080414095081404|\n",
            "|     1019| 18|     0|        1|                3| 16.25465808609359|      29|       0|              2|              1|     0|    0|           1|0.4695533233798704|       4.0|1.2080414095081404|\n",
            "|     1020| 17|     0|        0|                1|10.835206398820308|       9|       0|              2|              0|     0|    1|           0|2.3957840945306996|       3.0|2.2155449029723635|\n",
            "+---------+---+------+---------+-----------------+------------------+--------+--------+---------------+---------------+------+-----+------------+------------------+----------+------------------+\n",
            "only showing top 20 rows\n",
            "\n"
          ]
        }
      ]
    },
    {
      "cell_type": "code",
      "source": [
        "from pyspark.sql.functions import sum,avg,max,min,mean,count\n",
        "avg_df = df.groupby(\"GradeClass\").agg(avg('GPA').alias('AvgGpa'))\n",
        "avg_df.show()"
      ],
      "metadata": {
        "id": "EGhR4ZuJMHR0",
        "outputId": "c667c6fb-0dc2-40e5-b623-7bbcda8f7544",
        "colab": {
          "base_uri": "https://localhost:8080/"
        }
      },
      "execution_count": 63,
      "outputs": [
        {
          "output_type": "stream",
          "name": "stdout",
          "text": [
            "+----------+------------------+\n",
            "|GradeClass|            AvgGpa|\n",
            "+----------+------------------+\n",
            "|       0.0|3.1029417770600856|\n",
            "|       1.0|3.0016730360731767|\n",
            "|       4.0|1.2080414095081404|\n",
            "|       3.0|2.2155449029723635|\n",
            "|       2.0|2.6597418990482273|\n",
            "+----------+------------------+\n",
            "\n"
          ]
        }
      ]
    },
    {
      "cell_type": "code",
      "source": [
        "res = avg_df.filter(avg_df['GradeClass'] == 0.0).select(\"AvgGpa\").collect()"
      ],
      "metadata": {
        "id": "ue8OcPT_TpuM"
      },
      "execution_count": 85,
      "outputs": []
    },
    {
      "cell_type": "code",
      "source": [
        "res = res.collect()"
      ],
      "metadata": {
        "id": "Sotn9oAqUgMa"
      },
      "execution_count": 77,
      "outputs": []
    },
    {
      "cell_type": "code",
      "source": [
        "res[0]['AvgGpa']"
      ],
      "metadata": {
        "id": "Ly5hDZ7rVVDi",
        "outputId": "0dcf5042-7983-4c70-fefb-9a153fd2ec8c",
        "colab": {
          "base_uri": "https://localhost:8080/"
        }
      },
      "execution_count": 86,
      "outputs": [
        {
          "output_type": "execute_result",
          "data": {
            "text/plain": [
              "3.1029417770600856"
            ]
          },
          "metadata": {},
          "execution_count": 86
        }
      ]
    },
    {
      "cell_type": "code",
      "source": [
        "from pyspark.sql.functions import udf,col;\n",
        "from pyspark.sql.types import DoubleType"
      ],
      "metadata": {
        "id": "D5z8orlGXQqW"
      },
      "execution_count": 90,
      "outputs": []
    },
    {
      "cell_type": "code",
      "source": [
        "def avg(x):\n",
        "  print(x)\n",
        "  res = avg_df.filter(avg_df['GradeClass'] == x).select(\"AvgGpa\").collect()\n",
        "  return res[0]['AvgGpa']"
      ],
      "metadata": {
        "id": "djudyNFsWKW-"
      },
      "execution_count": 122,
      "outputs": []
    },
    {
      "cell_type": "code",
      "source": [
        "avg_df_col = udf(lambda x:avg(x),DoubleType())"
      ],
      "metadata": {
        "id": "2kzRRmWLXjTP"
      },
      "execution_count": 123,
      "outputs": []
    },
    {
      "cell_type": "code",
      "source": [
        "df.show()\n",
        "avg_df.show()"
      ],
      "metadata": {
        "id": "NYpj8GbsY10_",
        "outputId": "48efe86a-6168-410d-9174-13d49d289ee2",
        "colab": {
          "base_uri": "https://localhost:8080/"
        }
      },
      "execution_count": 128,
      "outputs": [
        {
          "output_type": "stream",
          "name": "stdout",
          "text": [
            "+---------+---+------+---------+-----------------+------------------+--------+--------+---------------+---------------+------+-----+------------+------------------+----------+\n",
            "|StudentID|Age|Gender|Ethnicity|ParentalEducation|   StudyTimeWeekly|Absences|Tutoring|ParentalSupport|Extracurricular|Sports|Music|Volunteering|               GPA|GradeClass|\n",
            "+---------+---+------+---------+-----------------+------------------+--------+--------+---------------+---------------+------+-----+------------+------------------+----------+\n",
            "|     1001| 17|     1|        0|                2|19.833722807854713|       7|       1|              2|              0|     0|    1|           0| 2.929195591667681|       2.0|\n",
            "|     1002| 18|     0|        0|                1| 15.40875605584674|       0|       0|              1|              0|     0|    0|           0| 3.042914833436377|       1.0|\n",
            "|     1003| 15|     0|        2|                3|  4.21056976881226|      26|       0|              2|              0|     0|    0|           0|0.1126022544661815|       4.0|\n",
            "|     1004| 17|     1|        0|                3|10.028829473958215|      14|       0|              3|              1|     0|    0|           0|2.0542181397029484|       3.0|\n",
            "|     1005| 17|     1|        0|                2|4.6724952729713305|      17|       1|              3|              0|     0|    0|           0|1.2880611817953875|       4.0|\n",
            "|     1006| 18|     0|        0|                1| 8.191218545250186|       0|       0|              1|              1|     0|    0|           0|3.0841836144863937|       1.0|\n",
            "|     1007| 15|     0|        1|                1|15.601680474699295|      10|       0|              3|              0|     1|    0|           0| 2.748237414891583|       2.0|\n",
            "|     1008| 15|     1|        1|                4|15.424496305808074|      22|       1|              1|              1|     0|    0|           0| 1.360142712316461|       4.0|\n",
            "|     1009| 17|     0|        0|                0| 4.562007558047703|       1|       0|              2|              0|     1|    0|           1| 2.896819189513569|       2.0|\n",
            "|     1010| 16|     1|        0|                1|18.444466363097202|       0|       0|              3|              1|     0|    0|           0|3.5734742103297656|       0.0|\n",
            "|     1011| 17|     0|        0|                1|11.851363655296536|      11|       0|              1|              0|     0|    0|           0|2.1471716250185144|       3.0|\n",
            "|     1012| 17|     0|        0|                1|  7.59848581924029|      15|       0|              2|              0|     0|    0|           1|1.5595945190402773|       4.0|\n",
            "|     1013| 17|     0|        1|                1|10.038711615617213|      21|       0|              3|              1|     0|    0|           0| 1.520077814874808|       4.0|\n",
            "|     1014| 17|     0|        1|                2|12.101425068754875|      21|       0|              4|              0|     1|    0|           0|1.7515809583340785|       4.0|\n",
            "|     1015| 18|     1|        0|                1|11.197810636915708|       9|       1|              2|              0|     0|    0|           0| 2.396788117124796|       3.0|\n",
            "|     1016| 15|     0|        0|                2| 9.728100710723563|      17|       1|              0|              0|     1|    0|           0|1.3415207165346672|       4.0|\n",
            "|     1017| 18|     0|        3|                1|10.098656081788002|      14|       0|              2|              1|     1|    0|           0|2.2321752777159762|       3.0|\n",
            "|     1018| 18|     1|        0|                0|3.5282382085577235|      16|       1|              2|              0|     0|    0|           0|1.3844041756940335|       4.0|\n",
            "|     1019| 18|     0|        1|                3| 16.25465808609359|      29|       0|              2|              1|     0|    0|           1|0.4695533233798704|       4.0|\n",
            "|     1020| 17|     0|        0|                1|10.835206398820308|       9|       0|              2|              0|     0|    1|           0|2.3957840945306996|       3.0|\n",
            "+---------+---+------+---------+-----------------+------------------+--------+--------+---------------+---------------+------+-----+------------+------------------+----------+\n",
            "only showing top 20 rows\n",
            "\n",
            "+----------+------------------+\n",
            "|GradeClass|            AvgGpa|\n",
            "+----------+------------------+\n",
            "|       0.0|3.1029417770600856|\n",
            "|       1.0|3.0016730360731767|\n",
            "|       4.0|1.2080414095081404|\n",
            "|       3.0|2.2155449029723635|\n",
            "|       2.0|2.6597418990482273|\n",
            "+----------+------------------+\n",
            "\n"
          ]
        }
      ]
    },
    {
      "cell_type": "code",
      "source": [
        "df.join(avg_df,'GradeClass','left').show()"
      ],
      "metadata": {
        "id": "HHPkTAqLnVZE",
        "outputId": "87075d16-369e-43de-fb17-0ad982e15618",
        "colab": {
          "base_uri": "https://localhost:8080/"
        }
      },
      "execution_count": 129,
      "outputs": [
        {
          "output_type": "stream",
          "name": "stdout",
          "text": [
            "+----------+---------+---+------+---------+-----------------+------------------+--------+--------+---------------+---------------+------+-----+------------+------------------+------------------+\n",
            "|GradeClass|StudentID|Age|Gender|Ethnicity|ParentalEducation|   StudyTimeWeekly|Absences|Tutoring|ParentalSupport|Extracurricular|Sports|Music|Volunteering|               GPA|            AvgGpa|\n",
            "+----------+---------+---+------+---------+-----------------+------------------+--------+--------+---------------+---------------+------+-----+------------+------------------+------------------+\n",
            "|       2.0|     1001| 17|     1|        0|                2|19.833722807854713|       7|       1|              2|              0|     0|    1|           0| 2.929195591667681|2.6597418990482273|\n",
            "|       1.0|     1002| 18|     0|        0|                1| 15.40875605584674|       0|       0|              1|              0|     0|    0|           0| 3.042914833436377|3.0016730360731767|\n",
            "|       4.0|     1003| 15|     0|        2|                3|  4.21056976881226|      26|       0|              2|              0|     0|    0|           0|0.1126022544661815|1.2080414095081404|\n",
            "|       3.0|     1004| 17|     1|        0|                3|10.028829473958215|      14|       0|              3|              1|     0|    0|           0|2.0542181397029484|2.2155449029723635|\n",
            "|       4.0|     1005| 17|     1|        0|                2|4.6724952729713305|      17|       1|              3|              0|     0|    0|           0|1.2880611817953875|1.2080414095081404|\n",
            "|       1.0|     1006| 18|     0|        0|                1| 8.191218545250186|       0|       0|              1|              1|     0|    0|           0|3.0841836144863937|3.0016730360731767|\n",
            "|       2.0|     1007| 15|     0|        1|                1|15.601680474699295|      10|       0|              3|              0|     1|    0|           0| 2.748237414891583|2.6597418990482273|\n",
            "|       4.0|     1008| 15|     1|        1|                4|15.424496305808074|      22|       1|              1|              1|     0|    0|           0| 1.360142712316461|1.2080414095081404|\n",
            "|       2.0|     1009| 17|     0|        0|                0| 4.562007558047703|       1|       0|              2|              0|     1|    0|           1| 2.896819189513569|2.6597418990482273|\n",
            "|       0.0|     1010| 16|     1|        0|                1|18.444466363097202|       0|       0|              3|              1|     0|    0|           0|3.5734742103297656|3.1029417770600856|\n",
            "|       3.0|     1011| 17|     0|        0|                1|11.851363655296536|      11|       0|              1|              0|     0|    0|           0|2.1471716250185144|2.2155449029723635|\n",
            "|       4.0|     1012| 17|     0|        0|                1|  7.59848581924029|      15|       0|              2|              0|     0|    0|           1|1.5595945190402773|1.2080414095081404|\n",
            "|       4.0|     1013| 17|     0|        1|                1|10.038711615617213|      21|       0|              3|              1|     0|    0|           0| 1.520077814874808|1.2080414095081404|\n",
            "|       4.0|     1014| 17|     0|        1|                2|12.101425068754875|      21|       0|              4|              0|     1|    0|           0|1.7515809583340785|1.2080414095081404|\n",
            "|       3.0|     1015| 18|     1|        0|                1|11.197810636915708|       9|       1|              2|              0|     0|    0|           0| 2.396788117124796|2.2155449029723635|\n",
            "|       4.0|     1016| 15|     0|        0|                2| 9.728100710723563|      17|       1|              0|              0|     1|    0|           0|1.3415207165346672|1.2080414095081404|\n",
            "|       3.0|     1017| 18|     0|        3|                1|10.098656081788002|      14|       0|              2|              1|     1|    0|           0|2.2321752777159762|2.2155449029723635|\n",
            "|       4.0|     1018| 18|     1|        0|                0|3.5282382085577235|      16|       1|              2|              0|     0|    0|           0|1.3844041756940335|1.2080414095081404|\n",
            "|       4.0|     1019| 18|     0|        1|                3| 16.25465808609359|      29|       0|              2|              1|     0|    0|           1|0.4695533233798704|1.2080414095081404|\n",
            "|       3.0|     1020| 17|     0|        0|                1|10.835206398820308|       9|       0|              2|              0|     0|    1|           0|2.3957840945306996|2.2155449029723635|\n",
            "+----------+---------+---+------+---------+-----------------+------------------+--------+--------+---------------+---------------+------+-----+------------+------------------+------------------+\n",
            "only showing top 20 rows\n",
            "\n"
          ]
        }
      ]
    },
    {
      "cell_type": "code",
      "source": [],
      "metadata": {
        "id": "4kf3gLzVnKey"
      },
      "execution_count": null,
      "outputs": []
    }
  ],
  "metadata": {
    "colab": {
      "name": "Welcome To Colab",
      "provenance": [],
      "include_colab_link": true
    },
    "kernelspec": {
      "display_name": "Python 3",
      "name": "python3"
    }
  },
  "nbformat": 4,
  "nbformat_minor": 0
}