{
  "cells": [
    {
      "cell_type": "markdown",
      "metadata": {
        "id": "view-in-github",
        "colab_type": "text"
      },
      "source": [
        "<a href=\"https://colab.research.google.com/github/haneeth25/Pyspark_prac/blob/main/Welcome_To_Colab.ipynb\" target=\"_parent\"><img src=\"https://colab.research.google.com/assets/colab-badge.svg\" alt=\"Open In Colab\"/></a>"
      ]
    },
    {
      "cell_type": "code",
      "source": [
        "#testing things\n",
        "!pip install pyspark"
      ],
      "metadata": {
        "id": "2jrOVUoBw8vp",
        "outputId": "c995fa12-1681-4bdc-effd-f3b69081ae8c",
        "colab": {
          "base_uri": "https://localhost:8080/"
        }
      },
      "execution_count": 1,
      "outputs": [
        {
          "output_type": "stream",
          "name": "stdout",
          "text": [
            "Collecting pyspark\n",
            "  Downloading pyspark-3.5.1.tar.gz (317.0 MB)\n",
            "\u001b[2K     \u001b[90m━━━━━━━━━━━━━━━━━━━━━━━━━━━━━━━━━━━━━━━━\u001b[0m \u001b[32m317.0/317.0 MB\u001b[0m \u001b[31m3.6 MB/s\u001b[0m eta \u001b[36m0:00:00\u001b[0m\n",
            "\u001b[?25h  Preparing metadata (setup.py) ... \u001b[?25l\u001b[?25hdone\n",
            "Requirement already satisfied: py4j==0.10.9.7 in /usr/local/lib/python3.10/dist-packages (from pyspark) (0.10.9.7)\n",
            "Building wheels for collected packages: pyspark\n",
            "  Building wheel for pyspark (setup.py) ... \u001b[?25l\u001b[?25hdone\n",
            "  Created wheel for pyspark: filename=pyspark-3.5.1-py2.py3-none-any.whl size=317488493 sha256=90b88deff9578632d5242a2ab02b5be7fc1d4d45ebb5dd9ea4252888ace5ff74\n",
            "  Stored in directory: /root/.cache/pip/wheels/80/1d/60/2c256ed38dddce2fdd93be545214a63e02fbd8d74fb0b7f3a6\n",
            "Successfully built pyspark\n",
            "Installing collected packages: pyspark\n",
            "Successfully installed pyspark-3.5.1\n"
          ]
        }
      ]
    },
    {
      "cell_type": "code",
      "source": [
        "import requests\n",
        "import json"
      ],
      "metadata": {
        "id": "-PZroRctMZQL"
      },
      "execution_count": 21,
      "outputs": []
    },
    {
      "cell_type": "code",
      "source": [
        "!wget -O dataset.csv \"https://data.wa.gov/api/views/f6w7-q2d2/rows.csv?accessType=DOWNLOAD\""
      ],
      "metadata": {
        "id": "FToCTR4YVFLk",
        "outputId": "8c288656-b67c-44d9-cb52-504938dc3ebd",
        "colab": {
          "base_uri": "https://localhost:8080/"
        }
      },
      "execution_count": 38,
      "outputs": [
        {
          "output_type": "stream",
          "name": "stdout",
          "text": [
            "--2024-08-08 09:33:41--  https://data.wa.gov/api/views/f6w7-q2d2/rows.csv?accessType=DOWNLOAD\n",
            "Resolving data.wa.gov (data.wa.gov)... 52.206.140.205, 52.206.68.26, 52.206.140.199\n",
            "Connecting to data.wa.gov (data.wa.gov)|52.206.140.205|:443... connected.\n",
            "HTTP request sent, awaiting response... 200 OK\n",
            "Length: unspecified [text/csv]\n",
            "Saving to: ‘dataset.csv’\n",
            "\n",
            "dataset.csv             [         <=>        ]  45.28M  5.03MB/s    in 9.7s    \n",
            "\n",
            "2024-08-08 09:33:55 (4.69 MB/s) - ‘dataset.csv’ saved [47484501]\n",
            "\n"
          ]
        }
      ]
    },
    {
      "cell_type": "code",
      "source": [
        "url = 'https://api.spacexdata.com/v4/launches'"
      ],
      "metadata": {
        "id": "4ZK3dDMPR5Bw"
      },
      "execution_count": 22,
      "outputs": []
    },
    {
      "cell_type": "code",
      "source": [
        "response = requests.get(url)\n",
        "data = response.json()"
      ],
      "metadata": {
        "id": "NCz281XvR8Nr"
      },
      "execution_count": 24,
      "outputs": []
    },
    {
      "cell_type": "code",
      "source": [
        "data"
      ],
      "metadata": {
        "id": "l-apIc-gSLFg"
      },
      "execution_count": null,
      "outputs": []
    },
    {
      "cell_type": "code",
      "source": [
        "with open('nasa_data.json','w') as file:\n",
        "  json.dump(data,file,indent = 4)"
      ],
      "metadata": {
        "id": "WpV2KwbrSg9w"
      },
      "execution_count": 27,
      "outputs": []
    },
    {
      "cell_type": "code",
      "source": [
        "from pyspark.sql import SparkSession"
      ],
      "metadata": {
        "id": "B4ManCn8S33-"
      },
      "execution_count": 34,
      "outputs": []
    },
    {
      "cell_type": "code",
      "source": [
        "spark = (\n",
        "    SparkSession\n",
        "    .builder\n",
        "    .appName('streaming')\n",
        "    .master('local[*]')\n",
        "    .getOrCreate()\n",
        ")"
      ],
      "metadata": {
        "id": "Tz5Zo87nS_Uk"
      },
      "execution_count": 35,
      "outputs": []
    },
    {
      "cell_type": "code",
      "source": [
        "df = spark.read.format('json').load('/content/file.json')"
      ],
      "metadata": {
        "id": "d00yl_5pTQZc"
      },
      "execution_count": 51,
      "outputs": []
    },
    {
      "cell_type": "code",
      "source": [
        "df.printSchema()"
      ],
      "metadata": {
        "id": "9QTf0KgyYoBk",
        "outputId": "b825d2a1-612c-4395-c554-65d55425c5c7",
        "colab": {
          "base_uri": "https://localhost:8080/"
        }
      },
      "execution_count": 52,
      "outputs": [
        {
          "output_type": "stream",
          "name": "stdout",
          "text": [
            "root\n",
            " |-- 2020 Census Tract: string (nullable = true)\n",
            " |-- Base MSRP: string (nullable = true)\n",
            " |-- City: string (nullable = true)\n",
            " |-- Clean Alternative Fuel Vehicle (CAFV) Eligibility: string (nullable = true)\n",
            " |-- County: string (nullable = true)\n",
            " |-- DOL Vehicle ID: string (nullable = true)\n",
            " |-- Electric Range: string (nullable = true)\n",
            " |-- Electric Utility: string (nullable = true)\n",
            " |-- Electric Vehicle Type: string (nullable = true)\n",
            " |-- Legislative District: string (nullable = true)\n",
            " |-- Make: string (nullable = true)\n",
            " |-- Model: string (nullable = true)\n",
            " |-- Model Year: string (nullable = true)\n",
            " |-- Postal Code: string (nullable = true)\n",
            " |-- State: string (nullable = true)\n",
            " |-- VIN (1-10): string (nullable = true)\n",
            " |-- Vehicle Location: string (nullable = true)\n",
            "\n"
          ]
        }
      ]
    },
    {
      "cell_type": "code",
      "source": [
        "df.show()"
      ],
      "metadata": {
        "id": "bxbyCphjTXXA",
        "outputId": "74c74787-ed2c-4423-e1fa-9161eb018542",
        "colab": {
          "base_uri": "https://localhost:8080/"
        }
      },
      "execution_count": 53,
      "outputs": [
        {
          "output_type": "stream",
          "name": "stdout",
          "text": [
            "+-----------------+---------+-----------------+-------------------------------------------------+---------+--------------+--------------+--------------------+---------------------+--------------------+---------+--------+----------+-----------+-----+----------+--------------------+\n",
            "|2020 Census Tract|Base MSRP|             City|Clean Alternative Fuel Vehicle (CAFV) Eligibility|   County|DOL Vehicle ID|Electric Range|    Electric Utility|Electric Vehicle Type|Legislative District|     Make|   Model|Model Year|Postal Code|State|VIN (1-10)|    Vehicle Location|\n",
            "+-----------------+---------+-----------------+-------------------------------------------------+---------+--------------+--------------+--------------------+---------------------+--------------------+---------+--------+----------+-----------+-----+----------+--------------------+\n",
            "|      53061041809|        0|          Everett|                             Not eligible due ...|Snohomish|     261311557|            21|PUGET SOUND ENERG...| Plug-in Hybrid El...|                  21|     JEEP|WRANGLER|      2024|      98204|   WA|1C4RJXN66R|POINT (-122.25072...|\n",
            "|      53033025804|    31950|           Renton|                             Clean Alternative...|     King|     210641315|            93|PUGET SOUND ENERG...| Battery Electric ...|                  11|      KIA|    SOUL|      2016|      98058|   WA|KNDJX3AEXG|POINT (-122.14763...|\n",
            "|      53033000102|        0|          Seattle|                             Clean Alternative...|     King|     124517347|           266|CITY OF SEATTLE -...| Battery Electric ...|                  46|    TESLA| MODEL 3|      2020|      98125|   WA|5YJ3E1EA3L|POINT (-122.30435...|\n",
            "|      53035092902|        0|     Port Orchard|                             Clean Alternative...|   Kitsap|       7832933|            53|PUGET SOUND ENERG...| Plug-in Hybrid El...|                  26|CHEVROLET|    VOLT|      2017|      98367|   WA|1G1RC6S5XH|POINT (-122.65300...|\n",
            "|      53061052203|        0|           Monroe|                             Clean Alternative...|Snohomish|     235249262|            30|PUGET SOUND ENERG...| Plug-in Hybrid El...|                  39|      BMW|      X5|      2023|      98272|   WA|5UXTA6C09P|POINT (-121.96838...|\n",
            "|      53077001702|        0|            Moxee|                             Clean Alternative...|   Yakima|     197264322|            38|          PACIFICORP| Plug-in Hybrid El...|                  15|     FORD|  ESCAPE|      2022|      98936|   WA|1FMCU0EZXN|POINT (-120.35522...|\n",
            "|      53067010300|    69900|          Olympia|                             Clean Alternative...| Thurston|     475076241|           208|PUGET SOUND ENERG...| Battery Electric ...|                  22|    TESLA| MODEL S|      2013|      98506|   WA|5YJSA1DNXD|POINT (-122.86491...|\n",
            "|      53061052206|        0|           Monroe|                             Clean Alternative...|Snohomish|     187075577|            84|PUGET SOUND ENERG...| Battery Electric ...|                  39|   NISSAN|    LEAF|      2015|      98272|   WA|1N4AZ0CP8F|POINT (-121.96838...|\n",
            "|      53061041606|        0|          Everett|                             Not eligible due ...|Snohomish|     122759276|            14|PUGET SOUND ENERG...| Plug-in Hybrid El...|                  44|  PORSCHE| CAYENNE|      2018|      98208|   WA|WP1AE2A21J|POINT (-122.20323...|\n",
            "|      53061041704|        0|          Everett|                             Eligibility unkno...|Snohomish|     259974277|             0|PUGET SOUND ENERG...| Battery Electric ...|                  21|   NISSAN|    LEAF|      2022|      98208|   WA|1N4BZ1BV4N|POINT (-122.20323...|\n",
            "|      53061052008|        0|       Mill Creek|                             Clean Alternative...|Snohomish|     475227392|           215|PUGET SOUND ENERG...| Battery Electric ...|                  44|    TESLA| MODEL 3|      2018|      98012|   WA|5YJ3E1EB8J|POINT (-122.20614...|\n",
            "|      53035080700|        0|        Bremerton|                             Clean Alternative...|   Kitsap|     474183811|           151|PUGET SOUND ENERG...| Battery Electric ...|                  35|   NISSAN|    LEAF|      2018|      98312|   WA|1N4AZ1CP6J|POINT (-122.69612...|\n",
            "|      53061052701|    69900|        Arlington|                             Clean Alternative...|Snohomish|     193175517|           208|PUGET SOUND ENERG...| Battery Electric ...|                  39|    TESLA| MODEL S|      2014|      98223|   WA|5YJSA1H2XE|POINT (-122.11597...|\n",
            "|      53035092600|        0|     Port Orchard|                             Clean Alternative...|   Kitsap|       6249078|           266|PUGET SOUND ENERG...| Battery Electric ...|                  26|    TESLA| MODEL 3|      2020|      98366|   WA|5YJ3E1EA2L|POINT (-122.60649...|\n",
            "|      53067012730|        0|        Rochester|                             Not eligible due ...| Thurston|     152190328|            17|PUGET SOUND ENERG...| Plug-in Hybrid El...|                  20|      BMW|      X3|      2021|      98579|   WA|5UXTS1C01M|POINT (-123.04985...|\n",
            "|      53033025805|        0|           Renton|                             Clean Alternative...|     King|     124565731|           291|PUGET SOUND ENERG...| Battery Electric ...|                  11|    TESLA| MODEL Y|      2020|      98055|   WA|5YJYGDEEXL|POINT (-122.20033...|\n",
            "|      53033031207|        0|           Auburn|                             Clean Alternative...|     King|     149766508|           238|PUGET SOUND ENERG...| Battery Electric ...|                  47|    TESLA| MODEL X|      2018|      98092|   WA|5YJXCAE28J|POINT (-122.15501...|\n",
            "|      53061052005|        0|          Bothell|                             Clean Alternative...|Snohomish|     266967277|           210|PUGET SOUND ENERG...| Battery Electric ...|                  44|    TESLA| MODEL S|      2017|      98012|   WA|5YJSA1E24H|POINT (-122.20614...|\n",
            "|      53033005600|        0|          Seattle|                             Not eligible due ...|     King|     132733793|            17|CITY OF SEATTLE -...| Plug-in Hybrid El...|                  36|      BMW|      X3|      2021|      98199|   WA|5UXTS1C06M|POINT (-122.39493...|\n",
            "|      53035091002|        0|Bainbridge Island|                             Not eligible due ...|   Kitsap|     138397801|            18|PUGET SOUND ENERG...| Plug-in Hybrid El...|                  23|    VOLVO|    XC90|      2021|      98110|   WA|YV4BR0CM2M|POINT (-122.53050...|\n",
            "+-----------------+---------+-----------------+-------------------------------------------------+---------+--------------+--------------+--------------------+---------------------+--------------------+---------+--------+----------+-----------+-----+----------+--------------------+\n",
            "only showing top 20 rows\n",
            "\n"
          ]
        }
      ]
    },
    {
      "cell_type": "code",
      "source": [
        "# Save DataFrame as JSON\n",
        "df.write.json(\"file.json\")"
      ],
      "metadata": {
        "id": "bUgHcxHoTZRb"
      },
      "execution_count": 46,
      "outputs": []
    },
    {
      "cell_type": "code",
      "source": [],
      "metadata": {
        "id": "5m7DALU8YU4f"
      },
      "execution_count": null,
      "outputs": []
    }
  ],
  "metadata": {
    "colab": {
      "name": "Welcome To Colab",
      "provenance": [],
      "include_colab_link": true
    },
    "kernelspec": {
      "display_name": "Python 3",
      "name": "python3"
    }
  },
  "nbformat": 4,
  "nbformat_minor": 0
}